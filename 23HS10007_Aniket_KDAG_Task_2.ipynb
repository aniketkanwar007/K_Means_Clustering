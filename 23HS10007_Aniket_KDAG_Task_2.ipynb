{
  "nbformat": 4,
  "nbformat_minor": 0,
  "metadata": {
    "colab": {
      "provenance": []
    },
    "kernelspec": {
      "name": "python3",
      "display_name": "Python 3"
    },
    "language_info": {
      "name": "python"
    }
  },
  "cells": [
    {
      "cell_type": "markdown",
      "source": [
        "Importing and initialising\n"
      ],
      "metadata": {
        "id": "3Qzy221gwmMp"
      }
    },
    {
      "cell_type": "code",
      "execution_count": null,
      "metadata": {
        "id": "QB5nh6Ke-lW-"
      },
      "outputs": [],
      "source": [
        "import numpy as np\n",
        "from PIL import Image\n",
        "import random\n",
        "import matplotlib.pyplot as plt"
      ]
    },
    {
      "cell_type": "code",
      "source": [
        "from google.colab import drive\n",
        "drive.mount('/content/drive')\n",
        "\n",
        "# Do not use this code if you are not importing file form google drive"
      ],
      "metadata": {
        "colab": {
          "base_uri": "https://localhost:8080/"
        },
        "id": "K65_gw5OE47C",
        "outputId": "0071428b-dc0a-4a04-89a1-da25e70a2ccc"
      },
      "execution_count": null,
      "outputs": [
        {
          "output_type": "stream",
          "name": "stdout",
          "text": [
            "Drive already mounted at /content/drive; to attempt to forcibly remount, call drive.mount(\"/content/drive\", force_remount=True).\n"
          ]
        }
      ]
    },
    {
      "cell_type": "markdown",
      "source": [
        "**Uploading Image and converting pixels in numpy array**"
      ],
      "metadata": {
        "id": "au8xN3R3wp0M"
      }
    },
    {
      "cell_type": "code",
      "source": [
        "image_1 = Image.open(r\"/content/drive/MyDrive/KDAG TASK 2 PICS/1.png\")\n",
        "image_2 = Image.open(r\"/content/drive/MyDrive/KDAG TASK 2 PICS/2.png\")\n",
        "image_3 = Image.open(r\"/content/drive/MyDrive/KDAG TASK 2 PICS/3.png\")\n",
        "image_4 = Image.open(r\"/content/drive/MyDrive/KDAG TASK 2 PICS/4.png\")\n",
        "arr_1 = np.array(image_1)\n",
        "\n",
        "# DO NOT FORGET TO CHANGE TO CHANGE PATH ACC TO YOUR COMPUTER :)\n",
        "# ALSO arr_1 = np.array(image_i), put i as 1/ 2/ 3/4"
      ],
      "metadata": {
        "collapsed": true,
        "id": "umPuV0Vp_j_S"
      },
      "execution_count": null,
      "outputs": []
    },
    {
      "cell_type": "code",
      "source": [
        "print('Red element => No. of light sources = No. of white pixels:')\n",
        "count_red = 0\n",
        "for i in range(64):\n",
        "  for j in  range(64):\n",
        "    if(arr_1[i][j][0] == 255):\n",
        "      # print(f\"i: {i}, j: {j}\")\n",
        "      count_red = count_red + 1\n",
        "print(count_red)  # This just shows no. of light sources."
      ],
      "metadata": {
        "id": "kSdzSZLWqxze",
        "colab": {
          "base_uri": "https://localhost:8080/"
        },
        "outputId": "8ebb4e5f-2895-4725-c743-bd2b6fbe50b6"
      },
      "execution_count": null,
      "outputs": [
        {
          "output_type": "stream",
          "name": "stdout",
          "text": [
            "Red element => No. of light sources = No. of white pixels:\n",
            "129\n"
          ]
        }
      ]
    },
    {
      "cell_type": "code",
      "source": [
        "#To take the indices of the light sources and store them into a numpy array\n",
        "light_source_index = []\n",
        "x = 0\n",
        "for i in range(64):\n",
        "  for j in range(64):\n",
        "    if(arr_1[i][j][0] == 255):\n",
        "      light_source_index.append([i, j])\n",
        "      x += 1\n",
        "light_source_index = np.array(light_source_index)"
      ],
      "metadata": {
        "id": "zIhnv3Uvd4Ki",
        "collapsed": true
      },
      "execution_count": null,
      "outputs": []
    },
    {
      "cell_type": "code",
      "source": [
        "#To determine the centroid using mean of the coordinates of elements in each cluster\n",
        "def new_centroids(clustered_points):\n",
        "    new_coords = []\n",
        "    for cluster_points in clustered_points:\n",
        "        if cluster_points:  # Check if the cluster has any points\n",
        "            # Calculate the mean coordinates of the points in the cluster\n",
        "            mean_coord = np.mean(cluster_points, axis=0)\n",
        "            new_coords.append(mean_coord)\n",
        "    return np.array(new_coords)"
      ],
      "metadata": {
        "id": "4ypGtCeFUD51"
      },
      "execution_count": null,
      "outputs": []
    },
    {
      "cell_type": "code",
      "source": [
        "#To assign each point to the nearest cluster centroid\n",
        "def assign_points_to_clusters(data_points, centroids):\n",
        "    num_clusters = centroids.shape[0]\n",
        "    clustered_points = [[] for _ in range(num_clusters)]\n",
        "    cluster_indices = []  # New addition to store cluster indices\n",
        "    for point in data_points:\n",
        "        distances = [calculate_distance(point, centroid) for centroid in centroids]\n",
        "        cluster_index = np.argmin(distances)\n",
        "        clustered_points[cluster_index].append(point)\n",
        "        cluster_indices.append(cluster_index)  # Store the cluster index for each point\n",
        "    return clustered_points, np.array(cluster_indices)"
      ],
      "metadata": {
        "id": "HIK4J2RENI7S"
      },
      "execution_count": null,
      "outputs": []
    },
    {
      "cell_type": "code",
      "source": [
        "#To calculate every distance between a point and the cluster centroid\n",
        "def src_cls_distances(src_coord, cls_coord, cls_cnt, src_cnt):\n",
        "    distances = np.zeros((cls_cnt, src_cnt))\n",
        "    for cluster in range(cls_cnt):\n",
        "        for source in range(src_cnt):\n",
        "            if source < len(src_coord) and cluster < len(cls_coord):\n",
        "                distance_sq = np.linalg.norm(src_coord[source] - cls_coord[cluster])\n",
        "                distances[cluster][source] = np.sqrt(distance_sq)\n",
        "    return distances"
      ],
      "metadata": {
        "id": "cV5hIiK06d4G"
      },
      "execution_count": null,
      "outputs": []
    },
    {
      "cell_type": "code",
      "source": [
        "#To calculate the distance between 2 points\n",
        "def calculate_distance(point1, point2):\n",
        "    return np.sqrt(np.sum((point1 - point2) ** 2))"
      ],
      "metadata": {
        "id": "u9mQdBKMqNxA"
      },
      "execution_count": null,
      "outputs": []
    },
    {
      "cell_type": "code",
      "source": [
        "#K- Means Method\n",
        "def kmeans(data_points, k, max_iterations=1000, tolerance=1e-4):\n",
        "    # Initialize centroids randomly\n",
        "    centroids_indices = np.random.choice(len(data_points), k, replace=False)\n",
        "    centroids = data_points[centroids_indices]\n",
        "\n",
        "    for i in range(max_iterations):\n",
        "        # Assign points to clusters\n",
        "        clustered_points, _ = assign_points_to_clusters(data_points, centroids)\n",
        "        # Update centroids using the new_centroids function\n",
        "        new_centroids_val = new_centroids(clustered_points)\n",
        "        # Check for convergence\n",
        "        if np.linalg.norm(new_centroids_val - centroids) < tolerance:\n",
        "            break\n",
        "        centroids = new_centroids_val\n",
        "    return centroids, clustered_points"
      ],
      "metadata": {
        "id": "0tVUB_kQa_MB"
      },
      "execution_count": null,
      "outputs": []
    },
    {
      "cell_type": "code",
      "source": [
        "#To calculate WCSS(Within cluster sum of squares)\n",
        "def calculate_wcss(centroids, clustered_points):\n",
        "    wcss = 0\n",
        "    for i in range(len(centroids)):\n",
        "        centroid = centroids[i]\n",
        "        cluster_points = clustered_points[i]\n",
        "        wcss += np.sum((cluster_points - centroid) ** 2)\n",
        "    return wcss"
      ],
      "metadata": {
        "id": "kjluvipDFoEr"
      },
      "execution_count": null,
      "outputs": []
    },
    {
      "cell_type": "code",
      "source": [
        "# Find optimal value of k using wcss values\n",
        "def find_optimal_k(data_points, max_clusters=10):\n",
        "    wcss_values = []\n",
        "    for k in range(1, max_clusters + 1):\n",
        "        centroids, clustered_points = kmeans(data_points, k)\n",
        "        wcss = calculate_wcss(centroids, clustered_points)\n",
        "        wcss_values.append(wcss)\n",
        "    return wcss_values"
      ],
      "metadata": {
        "id": "dTev_EvBKVcV"
      },
      "execution_count": null,
      "outputs": []
    },
    {
      "cell_type": "code",
      "source": [
        "data_points = light_source_index"
      ],
      "metadata": {
        "id": "mEODrR_7su2G"
      },
      "execution_count": null,
      "outputs": []
    },
    {
      "cell_type": "code",
      "source": [
        "#Plotting k vs elbow method\n",
        "wcss_values = find_optimal_k(data_points)\n",
        "x = range(1, len(wcss_values) + 1)\n",
        "plt.plot(x, wcss_values, marker='o')\n",
        "plt.xlabel('Number of clusters')\n",
        "plt.ylabel('WCSS')\n",
        "plt.title('Elbow Method')\n",
        "plt.xticks(x)\n",
        "plt.grid(True)\n",
        "plt.show()"
      ],
      "metadata": {
        "colab": {
          "base_uri": "https://localhost:8080/",
          "height": 472
        },
        "id": "-e3J6Sh5Nllg",
        "outputId": "4977007a-a8a2-41a4-d49f-bce7bc149260"
      },
      "execution_count": null,
      "outputs": [
        {
          "output_type": "display_data",
          "data": {
            "text/plain": [
              "<Figure size 640x480 with 1 Axes>"
            ],
            "image/png": "[encoded data removed]"
          },
          "metadata": {}
        }
      ]
    },
    {
      "cell_type": "code",
      "source": [
        "k = int(input(\"Enter k after visual inspection: \"))"
      ],
      "metadata": {
        "colab": {
          "base_uri": "https://localhost:8080/"
        },
        "id": "yQvl7lNYsv8L",
        "outputId": "abd5fd3b-301c-449e-f4fd-b09cfd6a7fe8"
      },
      "execution_count": null,
      "outputs": [
        {
          "name": "stdout",
          "output_type": "stream",
          "text": [
            "Enter k after visual inspection: 3\n"
          ]
        }
      ]
    },
    {
      "cell_type": "code",
      "source": [
        "def run_kmeans_and_calculate_distances(data_points, k):\n",
        "    # Run k-means with the specified number of clusters (k)\n",
        "    centroids, _ = kmeans(data_points, k)\n",
        "    # Calculate pairwise distances between final cluster centroids\n",
        "    distances = np.zeros((k, k))\n",
        "    for i in range(k):\n",
        "        for j in range(i+1, k):\n",
        "            distances[i][j] = np.linalg.norm(centroids[i] - centroids[j])\n",
        "            distances[j][i] = distances[i][j]  # Symmetric matrix\n",
        "    return centroids, distances"
      ],
      "metadata": {
        "id": "dDXAROUVvtpR"
      },
      "execution_count": null,
      "outputs": []
    },
    {
      "cell_type": "code",
      "source": [
        "optimal_k = k  # Obtained through visual inspection\n",
        "centroids, distances = run_kmeans_and_calculate_distances(data_points, optimal_k)"
      ],
      "metadata": {
        "id": "wHFIzeZM5vYu"
      },
      "execution_count": null,
      "outputs": []
    },
    {
      "cell_type": "code",
      "source": [
        "print(\"Centroids:\")\n",
        "print(centroids)"
      ],
      "metadata": {
        "colab": {
          "base_uri": "https://localhost:8080/"
        },
        "id": "elIblLNI6AiN",
        "outputId": "dc223c3d-37a5-4659-a46d-ec828e76fc62"
      },
      "execution_count": null,
      "outputs": [
        {
          "output_type": "stream",
          "name": "stdout",
          "text": [
            "Centroids:\n",
            "[[33.43478261 16.45652174]\n",
            " [19.7        58.425     ]\n",
            " [38.93023256 40.81395349]]\n"
          ]
        }
      ]
    },
    {
      "cell_type": "code",
      "source": [
        "for i in range(optimal_k):\n",
        "    for j in range(i+1, optimal_k):\n",
        "        print(f\"Distance between cluster {i+1} and {j+1} is {distances[i][j]}\")"
      ],
      "metadata": {
        "colab": {
          "base_uri": "https://localhost:8080/"
        },
        "id": "kZD3nwRP6ilB",
        "outputId": "e70b5aa9-ba78-457b-a548-96c3ef94552a"
      },
      "execution_count": null,
      "outputs": [
        {
          "output_type": "stream",
          "name": "stdout",
          "text": [
            "Distance between cluster 1 and 2 is 44.158775128406916\n",
            "Distance between cluster 1 and 3 is 24.969670633907217\n",
            "Distance between cluster 2 and 3 is 26.075866303439494\n"
          ]
        }
      ]
    }
  ]
}